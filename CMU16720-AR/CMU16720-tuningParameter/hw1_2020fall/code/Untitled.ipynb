{
 "cells": [
  {
   "cell_type": "code",
   "execution_count": 9,
   "metadata": {},
   "outputs": [],
   "source": [
    "from os.path import join\n",
    "\n",
    "import numpy as np\n",
    "from PIL import Image\n",
    "import matplotlib.pyplot as plt\n",
    "\n",
    "import util\n",
    "import visual_words\n",
    "import visual_recog\n",
    "from opts import get_opts\n"
   ]
  },
  {
   "cell_type": "code",
   "execution_count": 12,
   "metadata": {},
   "outputs": [
    {
     "name": "stderr",
     "output_type": "stream",
     "text": [
      "usage: ipykernel_launcher.py [-h] [--data-dir DATA_DIR] [--feat-dir FEAT_DIR]\n",
      "                             [--out-dir OUT_DIR]\n",
      "                             [--filter-scales FILTER_SCALES [FILTER_SCALES ...]]\n",
      "                             [--K K] [--alpha ALPHA] [--L L]\n",
      "ipykernel_launcher.py: error: unrecognized arguments: -f C:\\Users\\sihan\\AppData\\Roaming\\jupyter\\runtime\\kernel-fcad613c-ca30-4341-9d6f-484267bbca35.json\n"
     ]
    },
    {
     "ename": "SystemExit",
     "evalue": "2",
     "output_type": "error",
     "traceback": [
      "An exception has occurred, use %tb to see the full traceback.\n",
      "\u001b[1;31mSystemExit\u001b[0m\u001b[1;31m:\u001b[0m 2\n"
     ]
    }
   ],
   "source": [
    "opts = get_opts()"
   ]
  },
  {
   "cell_type": "code",
   "execution_count": 7,
   "metadata": {},
   "outputs": [],
   "source": [
    "def extract_filter_responses(opts, img):\n",
    "    '''\n",
    "    Extracts the filter responses for the given image.\n",
    "\n",
    "    [input]\n",
    "    * opts    : options\n",
    "    * img    : numpy.ndarray of shape (H,W) or (H,W,3)\n",
    "    [output]\n",
    "    * filter_responses: numpy.ndarray of shape (H,W,3F)\n",
    "    '''\n",
    "    \n",
    "    filter_scales = opts.filter_scales\n",
    "    # ----- TODO -----\n",
    "    \n",
    "    pass"
   ]
  },
  {
   "cell_type": "code",
   "execution_count": 11,
   "metadata": {},
   "outputs": [
    {
     "ename": "NameError",
     "evalue": "name 'opts' is not defined",
     "output_type": "error",
     "traceback": [
      "\u001b[1;31m---------------------------------------------------------------------------\u001b[0m",
      "\u001b[1;31mNameError\u001b[0m                                 Traceback (most recent call last)",
      "\u001b[1;32m<ipython-input-11-f558f3ec12ea>\u001b[0m in \u001b[0;36m<module>\u001b[1;34m\u001b[0m\n\u001b[1;32m----> 1\u001b[1;33m \u001b[0mprint\u001b[0m\u001b[1;33m(\u001b[0m\u001b[0mopts\u001b[0m\u001b[1;33m.\u001b[0m\u001b[0mfilter_scales\u001b[0m\u001b[1;33m)\u001b[0m\u001b[1;33m\u001b[0m\u001b[1;33m\u001b[0m\u001b[0m\n\u001b[0m",
      "\u001b[1;31mNameError\u001b[0m: name 'opts' is not defined"
     ]
    }
   ],
   "source": [
    "print(opts.filter_scales)"
   ]
  }
 ],
 "metadata": {
  "kernelspec": {
   "display_name": "Python 3",
   "language": "python",
   "name": "python3"
  },
  "language_info": {
   "codemirror_mode": {
    "name": "ipython",
    "version": 3
   },
   "file_extension": ".py",
   "mimetype": "text/x-python",
   "name": "python",
   "nbconvert_exporter": "python",
   "pygments_lexer": "ipython3",
   "version": "3.7.4"
  }
 },
 "nbformat": 4,
 "nbformat_minor": 4
}
